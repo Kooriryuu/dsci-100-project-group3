{
 "cells": [
  {
   "cell_type": "code",
   "execution_count": 5,
   "id": "b992fbbf-d245-4863-8e7e-bc4d60e13116",
   "metadata": {},
   "outputs": [],
   "source": [
    "library(tidyverse)\n",
    "library(tidymodels)"
   ]
  },
  {
   "cell_type": "code",
   "execution_count": null,
   "id": "c14fe238-6c12-485e-a3ef-f5c0da5e74f5",
   "metadata": {},
   "outputs": [],
   "source": []
  },
  {
   "cell_type": "code",
   "execution_count": 8,
   "id": "abc9227d-b6ac-4f8e-9236-a7e312916b34",
   "metadata": {},
   "outputs": [
    {
     "name": "stderr",
     "output_type": "stream",
     "text": [
      "\u001b[1mRows: \u001b[22m\u001b[34m303\u001b[39m \u001b[1mColumns: \u001b[22m\u001b[34m14\u001b[39m\n",
      "\u001b[36m──\u001b[39m \u001b[1mColumn specification\u001b[22m \u001b[36m────────────────────────────────────────────────────────\u001b[39m\n",
      "\u001b[1mDelimiter:\u001b[22m \",\"\n",
      "\u001b[32mdbl\u001b[39m (14): X1, X2, X3, X4, X5, X6, X7, X8, X9, X10, X11, X12, X13, X14\n",
      "\n",
      "\u001b[36mℹ\u001b[39m Use `spec()` to retrieve the full column specification for this data.\n",
      "\u001b[36mℹ\u001b[39m Specify the column types or set `show_col_types = FALSE` to quiet this message.\n",
      "\u001b[1mRows: \u001b[22m\u001b[34m123\u001b[39m \u001b[1mColumns: \u001b[22m\u001b[34m14\u001b[39m\n",
      "\u001b[36m──\u001b[39m \u001b[1mColumn specification\u001b[22m \u001b[36m────────────────────────────────────────────────────────\u001b[39m\n",
      "\u001b[1mDelimiter:\u001b[22m \",\"\n",
      "\u001b[32mdbl\u001b[39m (14): X1, X2, X3, X4, X5, X6, X7, X8, X9, X10, X11, X12, X13, X14\n",
      "\n",
      "\u001b[36mℹ\u001b[39m Use `spec()` to retrieve the full column specification for this data.\n",
      "\u001b[36mℹ\u001b[39m Specify the column types or set `show_col_types = FALSE` to quiet this message.\n"
     ]
    }
   ],
   "source": [
    "cleveland <- read_csv(\"https://raw.githubusercontent.com/Kooriryuu/dsci-100-project-group3/main/data/cleveland.data\", col_names = FALSE, na = c(\"?\"))\n",
    "#switzerland <- read_csv(\"https://archive.ics.uci.edu/ml/machine-learning-databases/heart-disease/processed.switzerland.data\", col_names = FALSE, na = c(\"?\"))\n",
    "#cleveland <- read_csv(\"data/cleveland.data\", col_names = FALSE, na = c(\"?\"))\n",
    "#switzerland <- read_csv(\"data/switzerland.data\", col_names = FALSE, na = c(\"?\"))\n",
    "\n",
    "#cleveland\n",
    "#switzerland"
   ]
  },
  {
   "cell_type": "code",
   "execution_count": 23,
   "id": "dc02ec9d-b63a-43b5-8582-20e90f36901e",
   "metadata": {},
   "outputs": [],
   "source": [
    "cleveland_select <- cleveland |>\n",
    "    select(X2, X3, X5, X4, X14)\n",
    "#switzerland_select <- switzerland |>\n",
    "    #select(X2, X3, X7, X11, X14)\n",
    "#cleveland_select\n",
    "#switzerland_select\n",
    "column_names <- c(\"sex\", \"chest_pain_type\", \"serum_cholestoral\", \"resting_blood_pressure\", \"heart_disease_present\")\n",
    "colnames(cleveland_select) <- column_names\n",
    "#colnames(switzerland_select) <- column_names\n",
    "cleveland_select$heart_disease_present[cleveland_select$heart_disease_present > 1] <- 1\n",
    "\n",
    "#cleveland_select <- mutate(cleveland_select, sex = as_factor(sex), chest_pain_type = as_factor(chest_pain_type), heart_disease_present = as_factor(heart_disease_present))\n",
    "#cleveland_select\n",
    "\n",
    "\n"
   ]
  },
  {
   "cell_type": "code",
   "execution_count": 43,
   "id": "6bbb7908-1b69-4b11-9eca-0eab062f3c1f",
   "metadata": {},
   "outputs": [
    {
     "data": {
      "text/html": [
       "<table class=\"dataframe\">\n",
       "<caption>A tibble: 1 × 3</caption>\n",
       "<thead>\n",
       "\t<tr><th scope=col>serum_cholestoral</th><th scope=col>resting_blood_pressure</th><th scope=col>heart_disease_distr</th></tr>\n",
       "\t<tr><th scope=col>&lt;dbl&gt;</th><th scope=col>&lt;dbl&gt;</th><th scope=col>&lt;dbl&gt;</th></tr>\n",
       "</thead>\n",
       "<tbody>\n",
       "\t<tr><td>244.8414</td><td>131.022</td><td>0.4581498</td></tr>\n",
       "</tbody>\n",
       "</table>\n"
      ],
      "text/latex": [
       "A tibble: 1 × 3\n",
       "\\begin{tabular}{lll}\n",
       " serum\\_cholestoral & resting\\_blood\\_pressure & heart\\_disease\\_distr\\\\\n",
       " <dbl> & <dbl> & <dbl>\\\\\n",
       "\\hline\n",
       "\t 244.8414 & 131.022 & 0.4581498\\\\\n",
       "\\end{tabular}\n"
      ],
      "text/markdown": [
       "\n",
       "A tibble: 1 × 3\n",
       "\n",
       "| serum_cholestoral &lt;dbl&gt; | resting_blood_pressure &lt;dbl&gt; | heart_disease_distr &lt;dbl&gt; |\n",
       "|---|---|---|\n",
       "| 244.8414 | 131.022 | 0.4581498 |\n",
       "\n"
      ],
      "text/plain": [
       "  serum_cholestoral resting_blood_pressure heart_disease_distr\n",
       "1 244.8414          131.022                0.4581498          "
      ]
     },
     "metadata": {},
     "output_type": "display_data"
    }
   ],
   "source": [
    "set.seed(77777) \n",
    "cleveland_split <- initial_split(cleveland_select, prop = 0.75, strata = heart_disease_present)\n",
    "cleveland_training <- training(cleveland_split) \n",
    "cleveland_testing <- testing(cleveland_split) \n",
    "\n",
    "avg <-  cleveland_training |>\n",
    "    select(serum_cholestoral, resting_blood_pressure) |>\n",
    "    map_df(mean) \n",
    "count0 <- cleveland_training |>\n",
    "    filter(heart_disease_present == 0) |>\n",
    "    count() |>\n",
    "    pull()\n",
    "count1 <- cleveland_training |>\n",
    "    filter(heart_disease_present == 1) |>\n",
    "    count() |>\n",
    "    pull()\n",
    "avg <- mutate(avg, heart_disease_distr = count1 / (count0 + count1)) \n",
    "avg"
   ]
  },
  {
   "cell_type": "code",
   "execution_count": null,
   "id": "5ca50424-0b9d-4a8d-a937-712a9b5d9746",
   "metadata": {},
   "outputs": [],
   "source": []
  }
 ],
 "metadata": {
  "kernelspec": {
   "display_name": "R",
   "language": "R",
   "name": "ir"
  },
  "language_info": {
   "codemirror_mode": "r",
   "file_extension": ".r",
   "mimetype": "text/x-r-source",
   "name": "R",
   "pygments_lexer": "r",
   "version": "4.1.3"
  }
 },
 "nbformat": 4,
 "nbformat_minor": 5
}
